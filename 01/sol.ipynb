{
 "cells": [
  {
   "cell_type": "markdown",
   "metadata": {},
   "source": [
    "<main>\n",
    "<article class=\"day-desc\"><h2>--- Day 1: Trebuchet?! ---</h2><p>Something is wrong with global snow production, and you've been selected to take a look. The Elves have even given you a map; on it, they've used stars to mark the top fifty locations that are likely to be having problems.</p>\n",
    "<p>You've been doing this long enough to know that to restore snow operations, you need to check all <em class=\"star\">fifty stars</em> by December 25th.</p>\n",
    "<p>Collect stars by solving puzzles.  Two puzzles will be made available on each day in the Advent calendar; the second puzzle is unlocked when you complete the first.  Each puzzle grants <em class=\"star\">one star</em>. Good luck!</p>\n",
    "<p>You try to ask why they can't just use a <a href=\"/2015/day/1\">weather machine</a> (\"not powerful enough\") and where they're even sending you (\"the sky\") and why your map looks mostly blank (\"you sure ask a lot of questions\") <span title=\"My hope is that this abomination of a run-on sentence somehow conveys the chaos of being hastily loaded into a trebuchet.\">and</span> hang on did you just say the sky (\"of course, where do you think snow comes from\") when you realize that the Elves are already loading you into a <a href=\"https://en.wikipedia.org/wiki/Trebuchet\" target=\"_blank\">trebuchet</a> (\"please hold still, we need to strap you in\").</p>\n",
    "<p>As they're making the final adjustments, they discover that their calibration document (your puzzle input) has been <em>amended</em> by a very young Elf who was apparently just excited to show off her art skills. Consequently, the Elves are having trouble reading the values on the document.</p>\n",
    "<p>The newly-improved calibration document consists of lines of text; each line originally contained a specific <em>calibration value</em> that the Elves now need to recover. On each line, the calibration value can be found by combining the <em>first digit</em> and the <em>last digit</em> (in that order) to form a single <em>two-digit number</em>.</p>\n",
    "<p>For example:</p>\n",
    "<pre><code>1abc2\n",
    "pqr3stu8vwx\n",
    "a1b2c3d4e5f\n",
    "treb7uchet\n",
    "</code></pre>\n",
    "<p>In this example, the calibration values of these four lines are <code>12</code>, <code>38</code>, <code>15</code>, and <code>77</code>. Adding these together produces <code><em>142</em></code>.</p>\n",
    "<p>Consider your entire calibration document. <em>What is the sum of all of the calibration values?</em></p>\n",
    "</article>\n",
    "\n"
   ]
  },
  {
   "cell_type": "markdown",
   "metadata": {},
   "source": [
    "1abc2=12\n",
    "pqr3stu8vwx=38\n",
    "a1b2c3d4e5f=15\n",
    "treb7uchet=77\n",
    "\n",
    "outer numbers and if in middle then inner"
   ]
  },
  {
   "cell_type": "code",
   "execution_count": 229,
   "metadata": {},
   "outputs": [],
   "source": [
    "import pandas as pd\n",
    "import re"
   ]
  },
  {
   "cell_type": "code",
   "execution_count": 230,
   "metadata": {},
   "outputs": [
    {
     "data": {
      "text/html": [
       "<div>\n",
       "<style scoped>\n",
       "    .dataframe tbody tr th:only-of-type {\n",
       "        vertical-align: middle;\n",
       "    }\n",
       "\n",
       "    .dataframe tbody tr th {\n",
       "        vertical-align: top;\n",
       "    }\n",
       "\n",
       "    .dataframe thead th {\n",
       "        text-align: right;\n",
       "    }\n",
       "</style>\n",
       "<table border=\"1\" class=\"dataframe\">\n",
       "  <thead>\n",
       "    <tr style=\"text-align: right;\">\n",
       "      <th></th>\n",
       "      <th>A</th>\n",
       "    </tr>\n",
       "  </thead>\n",
       "  <tbody>\n",
       "    <tr>\n",
       "      <th>0</th>\n",
       "      <td>mxmkjvgsdzfhseightonetwoeight7</td>\n",
       "    </tr>\n",
       "    <tr>\n",
       "      <th>1</th>\n",
       "      <td>3five4s84four9rtbzllggz</td>\n",
       "    </tr>\n",
       "    <tr>\n",
       "      <th>2</th>\n",
       "      <td>75sevenzdrpkv1onetwo</td>\n",
       "    </tr>\n",
       "    <tr>\n",
       "      <th>3</th>\n",
       "      <td>3q7ctkghhqkpb5four</td>\n",
       "    </tr>\n",
       "    <tr>\n",
       "      <th>4</th>\n",
       "      <td>ccxpblrgrjxcgrhjxfmtwonine8eightzzrdn4</td>\n",
       "    </tr>\n",
       "    <tr>\n",
       "      <th>...</th>\n",
       "      <td>...</td>\n",
       "    </tr>\n",
       "    <tr>\n",
       "      <th>995</th>\n",
       "      <td>cnktjkjmcg46fiverxlxkmxvkmnklsfive</td>\n",
       "    </tr>\n",
       "    <tr>\n",
       "      <th>996</th>\n",
       "      <td>5lvlhsjkxssfour</td>\n",
       "    </tr>\n",
       "    <tr>\n",
       "      <th>997</th>\n",
       "      <td>sevenfourfour99seven8</td>\n",
       "    </tr>\n",
       "    <tr>\n",
       "      <th>998</th>\n",
       "      <td>ktgfiveone76ghj</td>\n",
       "    </tr>\n",
       "    <tr>\n",
       "      <th>999</th>\n",
       "      <td>7zgzsevenftkdfour186</td>\n",
       "    </tr>\n",
       "  </tbody>\n",
       "</table>\n",
       "<p>1000 rows × 1 columns</p>\n",
       "</div>"
      ],
      "text/plain": [
       "                                          A\n",
       "0            mxmkjvgsdzfhseightonetwoeight7\n",
       "1                   3five4s84four9rtbzllggz\n",
       "2                      75sevenzdrpkv1onetwo\n",
       "3                        3q7ctkghhqkpb5four\n",
       "4    ccxpblrgrjxcgrhjxfmtwonine8eightzzrdn4\n",
       "..                                      ...\n",
       "995      cnktjkjmcg46fiverxlxkmxvkmnklsfive\n",
       "996                         5lvlhsjkxssfour\n",
       "997                   sevenfourfour99seven8\n",
       "998                         ktgfiveone76ghj\n",
       "999                    7zgzsevenftkdfour186\n",
       "\n",
       "[1000 rows x 1 columns]"
      ]
     },
     "execution_count": 230,
     "metadata": {},
     "output_type": "execute_result"
    }
   ],
   "source": [
    "data = pd.read_csv('input.txt', names=['A'])\n",
    "data\n"
   ]
  },
  {
   "cell_type": "code",
   "execution_count": 231,
   "metadata": {},
   "outputs": [
    {
     "data": {
      "text/plain": [
       "0                  [7]\n",
       "1      [3, 4, 8, 4, 9]\n",
       "2            [7, 5, 1]\n",
       "3            [3, 7, 5]\n",
       "4               [8, 4]\n",
       "            ...       \n",
       "995             [4, 6]\n",
       "996                [5]\n",
       "997          [9, 9, 8]\n",
       "998             [7, 6]\n",
       "999       [7, 1, 8, 6]\n",
       "Name: A, Length: 1000, dtype: object"
      ]
     },
     "execution_count": 231,
     "metadata": {},
     "output_type": "execute_result"
    }
   ],
   "source": [
    "nums = data['A'].apply(lambda x: re.findall(r'\\d',x))\n",
    "nums"
   ]
  },
  {
   "cell_type": "code",
   "execution_count": 232,
   "metadata": {},
   "outputs": [],
   "source": [
    "def solve(numsToSum): \n",
    "    numsToSum = [int(i) for i in numsToSum]\n",
    "    if len(numsToSum) < 2:\n",
    "        return numsToSum[0]*10 + numsToSum[0]\n",
    "    else:\n",
    "        return numsToSum[0]*10 + numsToSum[-1]"
   ]
  },
  {
   "cell_type": "code",
   "execution_count": 233,
   "metadata": {},
   "outputs": [],
   "source": [
    "nums['test'] = nums.apply(solve)"
   ]
  },
  {
   "cell_type": "code",
   "execution_count": 234,
   "metadata": {},
   "outputs": [
    {
     "data": {
      "text/plain": [
       "0      77\n",
       "1      39\n",
       "2      71\n",
       "3      35\n",
       "4      84\n",
       "       ..\n",
       "995    46\n",
       "996    55\n",
       "997    98\n",
       "998    76\n",
       "999    76\n",
       "Name: A, Length: 1000, dtype: int64"
      ]
     },
     "execution_count": 234,
     "metadata": {},
     "output_type": "execute_result"
    }
   ],
   "source": [
    "nums['test']"
   ]
  },
  {
   "cell_type": "code",
   "execution_count": 235,
   "metadata": {},
   "outputs": [],
   "source": [
    "mySum = nums.test.sum()"
   ]
  },
  {
   "cell_type": "code",
   "execution_count": 236,
   "metadata": {},
   "outputs": [
    {
     "data": {
      "text/plain": [
       "55621"
      ]
     },
     "execution_count": 236,
     "metadata": {},
     "output_type": "execute_result"
    }
   ],
   "source": [
    "mySum"
   ]
  },
  {
   "cell_type": "markdown",
   "metadata": {},
   "source": [
    "---\n",
    "\n",
    "begin part 2\n"
   ]
  },
  {
   "cell_type": "markdown",
   "metadata": {},
   "source": [
    "\n",
    "<p>Your puzzle answer was <code>55621</code>.</p><p class=\"day-success\">The first half of this puzzle is complete! It provides one gold star: *</p>\n",
    "<article class=\"day-desc\"><h2 id=\"part2\">--- Part Two ---</h2><p>Your calculation isn't quite right. It looks like some of the digits are actually <em>spelled out with letters</em>: <code>one</code>, <code>two</code>, <code>three</code>, <code>four</code>, <code>five</code>, <code>six</code>, <code>seven</code>, <code>eight</code>, and <code>nine</code> <em>also</em> count as valid \"digits\".</p>\n",
    "<p>Equipped with this new information, you now need to find the real first and last digit on each line. For example:</p>\n",
    "<pre><code>two1nine\n",
    "eightwothree\n",
    "abcone2threexyz\n",
    "xtwone3four\n",
    "4nineeightseven2\n",
    "zoneight234\n",
    "7pqrstsixteen\n",
    "</code></pre>\n",
    "<p>In this example, the calibration values are <code>29</code>, <code>83</code>, <code>13</code>, <code>24</code>, <code>42</code>, <code>14</code>, and <code>76</code>. Adding these together produces <code><em>281</em></code>.</p>\n",
    "<p><em>What is the sum of all of the calibration values?</em></p>\n",
    "</article>\n"
   ]
  },
  {
   "cell_type": "code",
   "execution_count": 237,
   "metadata": {},
   "outputs": [
    {
     "data": {
      "text/html": [
       "<div>\n",
       "<style scoped>\n",
       "    .dataframe tbody tr th:only-of-type {\n",
       "        vertical-align: middle;\n",
       "    }\n",
       "\n",
       "    .dataframe tbody tr th {\n",
       "        vertical-align: top;\n",
       "    }\n",
       "\n",
       "    .dataframe thead th {\n",
       "        text-align: right;\n",
       "    }\n",
       "</style>\n",
       "<table border=\"1\" class=\"dataframe\">\n",
       "  <thead>\n",
       "    <tr style=\"text-align: right;\">\n",
       "      <th></th>\n",
       "      <th>A</th>\n",
       "    </tr>\n",
       "  </thead>\n",
       "  <tbody>\n",
       "    <tr>\n",
       "      <th>0</th>\n",
       "      <td>mxmkjvgsdzfhseightonetwoeight7</td>\n",
       "    </tr>\n",
       "    <tr>\n",
       "      <th>1</th>\n",
       "      <td>3five4s84four9rtbzllggz</td>\n",
       "    </tr>\n",
       "    <tr>\n",
       "      <th>2</th>\n",
       "      <td>75sevenzdrpkv1onetwo</td>\n",
       "    </tr>\n",
       "    <tr>\n",
       "      <th>3</th>\n",
       "      <td>3q7ctkghhqkpb5four</td>\n",
       "    </tr>\n",
       "    <tr>\n",
       "      <th>4</th>\n",
       "      <td>ccxpblrgrjxcgrhjxfmtwonine8eightzzrdn4</td>\n",
       "    </tr>\n",
       "    <tr>\n",
       "      <th>...</th>\n",
       "      <td>...</td>\n",
       "    </tr>\n",
       "    <tr>\n",
       "      <th>995</th>\n",
       "      <td>cnktjkjmcg46fiverxlxkmxvkmnklsfive</td>\n",
       "    </tr>\n",
       "    <tr>\n",
       "      <th>996</th>\n",
       "      <td>5lvlhsjkxssfour</td>\n",
       "    </tr>\n",
       "    <tr>\n",
       "      <th>997</th>\n",
       "      <td>sevenfourfour99seven8</td>\n",
       "    </tr>\n",
       "    <tr>\n",
       "      <th>998</th>\n",
       "      <td>ktgfiveone76ghj</td>\n",
       "    </tr>\n",
       "    <tr>\n",
       "      <th>999</th>\n",
       "      <td>7zgzsevenftkdfour186</td>\n",
       "    </tr>\n",
       "  </tbody>\n",
       "</table>\n",
       "<p>1000 rows × 1 columns</p>\n",
       "</div>"
      ],
      "text/plain": [
       "                                          A\n",
       "0            mxmkjvgsdzfhseightonetwoeight7\n",
       "1                   3five4s84four9rtbzllggz\n",
       "2                      75sevenzdrpkv1onetwo\n",
       "3                        3q7ctkghhqkpb5four\n",
       "4    ccxpblrgrjxcgrhjxfmtwonine8eightzzrdn4\n",
       "..                                      ...\n",
       "995      cnktjkjmcg46fiverxlxkmxvkmnklsfive\n",
       "996                         5lvlhsjkxssfour\n",
       "997                   sevenfourfour99seven8\n",
       "998                         ktgfiveone76ghj\n",
       "999                    7zgzsevenftkdfour186\n",
       "\n",
       "[1000 rows x 1 columns]"
      ]
     },
     "execution_count": 237,
     "metadata": {},
     "output_type": "execute_result"
    }
   ],
   "source": [
    "data = pd.read_csv('input.txt', names=['A'])\n",
    "data"
   ]
  },
  {
   "cell_type": "code",
   "execution_count": 238,
   "metadata": {},
   "outputs": [
    {
     "data": {
      "text/plain": [
       "0                                                     [7]\n",
       "1                                         [3, 4, 8, 4, 9]\n",
       "2                                               [7, 5, 1]\n",
       "3                                               [3, 7, 5]\n",
       "4                                                  [8, 4]\n",
       "                              ...                        \n",
       "997                                             [9, 9, 8]\n",
       "998                                                [7, 6]\n",
       "999                                          [7, 1, 8, 6]\n",
       "test    0      77\n",
       "1      39\n",
       "2      71\n",
       "3      35\n",
       "4     ...\n",
       "A       0              [eight, one, two, eight, 7]\n",
       "1  ...\n",
       "Name: A, Length: 1002, dtype: object"
      ]
     },
     "execution_count": 238,
     "metadata": {},
     "output_type": "execute_result"
    }
   ],
   "source": [
    "numberRegex = r'(?=(one|two|three|four|five|six|seven|eight|nine|zero|\\d))'\n",
    "nums['A'] = data['A'].apply(lambda x: re.findall(numberRegex,x))\n",
    "nums"
   ]
  },
  {
   "cell_type": "code",
   "execution_count": 239,
   "metadata": {},
   "outputs": [],
   "source": [
    "m = {\n",
    "    \"one\":1,\n",
    "    \"two\":2,\n",
    "    \"three\":3,\n",
    "    \"four\":4,\n",
    "    \"five\":5,\n",
    "    \"six\":6,\n",
    "    \"seven\":7,\n",
    "    \"eight\":8,\n",
    "    \"nine\":9,\n",
    "    \"zero\":0\n",
    "}\n",
    "\n",
    "nums['A']=nums['A'].apply(lambda x: [m.get(y, y) for y in x] )\n",
    "\n"
   ]
  },
  {
   "cell_type": "code",
   "execution_count": 240,
   "metadata": {},
   "outputs": [],
   "source": [
    "nums['test'] = nums.A.apply(solve)\n"
   ]
  },
  {
   "cell_type": "code",
   "execution_count": 241,
   "metadata": {},
   "outputs": [
    {
     "data": {
      "text/plain": [
       "0      87\n",
       "1      39\n",
       "2      72\n",
       "3      34\n",
       "4      24\n",
       "       ..\n",
       "995    45\n",
       "996    54\n",
       "997    78\n",
       "998    56\n",
       "999    76\n",
       "Name: A, Length: 1000, dtype: int64"
      ]
     },
     "execution_count": 241,
     "metadata": {},
     "output_type": "execute_result"
    }
   ],
   "source": [
    "nums['test']"
   ]
  },
  {
   "cell_type": "code",
   "execution_count": 242,
   "metadata": {},
   "outputs": [
    {
     "data": {
      "text/plain": [
       "0            [8, 1, 2, 8, 7]\n",
       "1      [3, 5, 4, 8, 4, 4, 9]\n",
       "2         [7, 5, 7, 1, 1, 2]\n",
       "3               [3, 7, 5, 4]\n",
       "4            [2, 9, 8, 8, 4]\n",
       "               ...          \n",
       "995             [4, 6, 5, 5]\n",
       "996                   [5, 4]\n",
       "997    [7, 4, 4, 9, 9, 7, 8]\n",
       "998             [5, 1, 7, 6]\n",
       "999       [7, 7, 4, 1, 8, 6]\n",
       "Name: A, Length: 1000, dtype: object"
      ]
     },
     "execution_count": 242,
     "metadata": {},
     "output_type": "execute_result"
    }
   ],
   "source": [
    "nums['A']"
   ]
  },
  {
   "cell_type": "code",
   "execution_count": 243,
   "metadata": {},
   "outputs": [
    {
     "data": {
      "text/plain": [
       "53592"
      ]
     },
     "execution_count": 243,
     "metadata": {},
     "output_type": "execute_result"
    }
   ],
   "source": [
    "part2Sum = nums['test'].sum()\n",
    "part2Sum"
   ]
  }
 ],
 "metadata": {
  "kernelspec": {
   "display_name": "Python 3",
   "language": "python",
   "name": "python3"
  },
  "language_info": {
   "codemirror_mode": {
    "name": "ipython",
    "version": 3
   },
   "file_extension": ".py",
   "mimetype": "text/x-python",
   "name": "python",
   "nbconvert_exporter": "python",
   "pygments_lexer": "ipython3",
   "version": "3.12.0"
  }
 },
 "nbformat": 4,
 "nbformat_minor": 2
}
