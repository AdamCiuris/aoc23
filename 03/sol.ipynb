{
 "cells": [
  {
   "cell_type": "markdown",
   "metadata": {},
   "source": [
    "\n",
    "<article class=\"day-desc\"><h2>--- Day 3: Gear Ratios ---</h2><p>You and the Elf eventually reach a <a href=\"https://en.wikipedia.org/wiki/Gondola_lift\" target=\"_blank\">gondola lift</a> station; he says the gondola lift will take you up to the <em>water source</em>, but this is as far as he can bring you. You go inside.</p>\n",
    "<p>It doesn't take long to find the gondolas, but there seems to be a problem: they're not moving.</p>\n",
    "<p>\"Aaah!\"</p>\n",
    "<p>You turn around to see a slightly-greasy Elf with a wrench and a look of surprise. \"Sorry, I wasn't expecting anyone! The gondola lift isn't working right now; it'll still be a while before I can fix it.\" You offer to help.</p>\n",
    "<p>The engineer explains that an engine part seems to be missing from the engine, but nobody can figure out which one. If you can <em>add up all the part numbers</em> in the engine schematic, it should be easy to work out which part is missing.</p>\n",
    "<p>The engine schematic (your puzzle input) consists of a visual representation of the engine. There are lots of numbers and symbols you don't really understand, but apparently <em>any number adjacent to a symbol</em>, even diagonally, is a \"part number\" and should be included in your sum. (Periods (<code>.</code>) do not count as a symbol.)</p>\n",
    "<p>Here is an example engine schematic:</p>\n",
    "<pre><code>467..114..\n",
    "...*......\n",
    "..35..633.\n",
    "......#...\n",
    "617*......\n",
    ".....+.58.\n",
    "..592.....\n",
    "......755.\n",
    "...$.*....\n",
    ".664.598..\n",
    "</code></pre>\n",
    "<p>In this schematic, two numbers are <em>not</em> part numbers because they are not adjacent to a symbol: <code>114</code> (top right) and <code>58</code> (middle right). Every other number is adjacent to a symbol and so <em>is</em> a part number; their sum is <code><em>4361</em></code>.</p>\n",
    "<p>Of course, the actual engine schematic is much larger. <em>What is the sum of all of the part numbers in the engine schematic?</em></p>\n",
    "</article>\n"
   ]
  },
  {
   "cell_type": "code",
   "execution_count": 22,
   "metadata": {},
   "outputs": [],
   "source": [
    "import re"
   ]
  },
  {
   "cell_type": "code",
   "execution_count": 23,
   "metadata": {},
   "outputs": [
    {
     "data": {
      "text/plain": [
       "140"
      ]
     },
     "execution_count": 23,
     "metadata": {},
     "output_type": "execute_result"
    }
   ],
   "source": [
    "test = open('input.txt', 'r').readline().replace('\\n', '')\n",
    "test = open('input.txt', 'r').readline().replace('\\n', '')\n",
    "\n",
    "len(test)"
   ]
  },
  {
   "cell_type": "code",
   "execution_count": 26,
   "metadata": {},
   "outputs": [
    {
     "data": {
      "text/plain": [
       "[('', '+591', ''),\n",
       " ('......196....694......................779..271.374......604.........*.....................708.....922.......76..82*554......991..19........4',\n",
       "  '',\n",
       "  ''),\n",
       " ('.......691................793......../......411......963.......*594..................@........@......*.......45.............729...........30',\n",
       "  '',\n",
       "  ''),\n",
       " ('', '+279', ''),\n",
       " ('', '+503', ''),\n",
       " ('..............................%......../...865........*......*........*..........900......950.......................*449...$.............78',\n",
       "  '',\n",
       "  ''),\n",
       " ('',\n",
       "  '',\n",
       "  '..............#.....*.....849*......162*129...543.....*........903..290.........................42.......................649...$............'),\n",
       " ('.........#....../...*.....*...448...883......................784................................*.....&.................809.......616..109.4',\n",
       "  '',\n",
       "  ''),\n",
       " ('',\n",
       "  '',\n",
       "  '4..159.....94...............769......*..............#..........*.............748*993...................................................607.'),\n",
       " ('',\n",
       "  '',\n",
       "  '....99...233..............275.337.&......437..630...........423.84...........-............................163........578....................'),\n",
       " ('.................33*555...*................@.315.720......%......................614.*.................309.....*........*..758............81',\n",
       "  '',\n",
       "  ''),\n",
       " ('.......*.....910..436.477..............*150.....510...*.....#....537...........434.......................*...-........871.743.........643...',\n",
       "  '',\n",
       "  ''),\n",
       " ('.357.........%..............*...........................*............*..313..+418.47...931...329............974.........=...847..........16',\n",
       "  '',\n",
       "  ''),\n",
       " ('.....$.......770......+....................................5.......*.....*36..................547...+....................115.*...471......86',\n",
       "  '',\n",
       "  ''),\n",
       " ('',\n",
       "  '',\n",
       "  '........661...939........630...........186=...*......575.....*................#.....662..$.................................+......*.........'),\n",
       " ('', '+20', ''),\n",
       " ('',\n",
       "  '',\n",
       "  '....*......*.......942*.............596....285.....*..............177...........86...................................477......702.....243..'),\n",
       " ('...692.........*.....911...........*.........594.......*......589........*..........186........................219...........344.927.324.52',\n",
       "  '',\n",
       "  ''),\n",
       " ('',\n",
       "  '',\n",
       "  '6..535.................................&592.............367.636...........830........*..........*..........................................'),\n",
       " ('', '+317', ''),\n",
       " ('',\n",
       "  '',\n",
       "  '2.317.......454.....1.............*.............................*.........*.......*.........*........299..246...........190#...........%...'),\n",
       " ('',\n",
       "  '',\n",
       "  '3........551.338.&..................................*.......................................%..........213.................164.....*.......')]"
      ]
     },
     "execution_count": 26,
     "metadata": {},
     "output_type": "execute_result"
    }
   ],
   "source": [
    "# +- 139, 140, 1 from any digit should count as diagonal adjacent, so should\n",
    "text = open('input.txt', 'r').read().replace('\\n', '')  \n",
    "# len(text[0].split(r'\\n'))\n",
    "res =  re.findall(r'\\+(.{139,140})\\d+|(\\+\\d+)|\\d+(.{139,140})\\+', text)\n",
    "len(res)\n",
    "res"
   ]
  }
 ],
 "metadata": {
  "kernelspec": {
   "display_name": "Python 3",
   "language": "python",
   "name": "python3"
  },
  "language_info": {
   "codemirror_mode": {
    "name": "ipython",
    "version": 3
   },
   "file_extension": ".py",
   "mimetype": "text/x-python",
   "name": "python",
   "nbconvert_exporter": "python",
   "pygments_lexer": "ipython3",
   "version": "3.12.0"
  }
 },
 "nbformat": 4,
 "nbformat_minor": 2
}
