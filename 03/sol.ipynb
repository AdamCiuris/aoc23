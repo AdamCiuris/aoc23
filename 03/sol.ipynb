{
 "cells": [
  {
   "cell_type": "markdown",
   "metadata": {},
   "source": [
    "\n",
    "<article class=\"day-desc\"><h2>--- Day 3: Gear Ratios ---</h2><p>You and the Elf eventually reach a <a href=\"https://en.wikipedia.org/wiki/Gondola_lift\" target=\"_blank\">gondola lift</a> station; he says the gondola lift will take you up to the <em>water source</em>, but this is as far as he can bring you. You go inside.</p>\n",
    "<p>It doesn't take long to find the gondolas, but there seems to be a problem: they're not moving.</p>\n",
    "<p>\"Aaah!\"</p>\n",
    "<p>You turn around to see a slightly-greasy Elf with a wrench and a look of surprise. \"Sorry, I wasn't expecting anyone! The gondola lift isn't working right now; it'll still be a while before I can fix it.\" You offer to help.</p>\n",
    "<p>The engineer explains that an engine part seems to be missing from the engine, but nobody can figure out which one. If you can <em>add up all the part numbers</em> in the engine schematic, it should be easy to work out which part is missing.</p>\n",
    "<p>The engine schematic (your puzzle input) consists of a visual representation of the engine. There are lots of numbers and symbols you don't really understand, but apparently <em>any number adjacent to a symbol</em>, even diagonally, is a \"part number\" and should be included in your sum. (Periods (<code>.</code>) do not count as a symbol.)</p>\n",
    "<p>Here is an example engine schematic:</p>\n",
    "<pre><code>467..114..\n",
    "...*......\n",
    "..35..633.\n",
    "......#...\n",
    "617*......\n",
    ".....+.58.\n",
    "..592.....\n",
    "......755.\n",
    "...$.*....\n",
    ".664.598..\n",
    "</code></pre>\n",
    "<p>In this schematic, two numbers are <em>not</em> part numbers because they are not adjacent to a symbol: <code>114</code> (top right) and <code>58</code> (middle right). Every other number is adjacent to a symbol and so <em>is</em> a part number; their sum is <code><em>4361</em></code>.</p>\n",
    "<p>Of course, the actual engine schematic is much larger. <em>What is the sum of all of the part numbers in the engine schematic?</em></p>\n",
    "</article>\n"
   ]
  },
  {
   "cell_type": "code",
   "execution_count": 128,
   "metadata": {},
   "outputs": [],
   "source": [
    "import re"
   ]
  },
  {
   "cell_type": "code",
   "execution_count": 129,
   "metadata": {},
   "outputs": [
    {
     "data": {
      "text/plain": [
       "140"
      ]
     },
     "execution_count": 129,
     "metadata": {},
     "output_type": "execute_result"
    }
   ],
   "source": [
    "test = open('input.txt', 'r').readline().replace('\\n', '')\n",
    "test = open('input.txt', 'r').readline().replace('\\n', '')\n",
    "symbols = r'(\\+|\\@|\\#|\\$|\\%|\\&|\\*|\\/|\\-|\\=)'\n",
    "fullRe =  r'(' + symbols + r'(.{140})\\d+)|\\d+' + symbols +  r'|(\\d+(.{140})' + symbols +r')'\n",
    "# least unreadable regex\n",
    "bad = r'(?=([(\\+|\\@|\\#|\\$|\\%|\\&|\\*|\\/|\\-|\\=)].{138,140}\\d+))|(?=([(\\+|\\@|\\#|\\$|\\%|\\&|\\*|\\/|\\-|\\=)]\\d+))|(?=(\\d+.{138,140}[(\\+|\\@|\\#|\\$|\\%|\\&|\\*|\\/|\\-|\\=)]))|(?=(\\d+[(\\+|\\@|\\#|\\$|\\%|\\&|\\*|\\/|\\-|\\=)]))'\n",
    "len(test)"
   ]
  },
  {
   "cell_type": "code",
   "execution_count": 130,
   "metadata": {},
   "outputs": [
    {
     "data": {
      "text/plain": [
       "{'#',\n",
       " '$',\n",
       " '%',\n",
       " '&',\n",
       " '*',\n",
       " '+',\n",
       " '-',\n",
       " '.',\n",
       " '/',\n",
       " '0',\n",
       " '1',\n",
       " '2',\n",
       " '3',\n",
       " '4',\n",
       " '5',\n",
       " '6',\n",
       " '7',\n",
       " '8',\n",
       " '9',\n",
       " '=',\n",
       " '@'}"
      ]
     },
     "execution_count": 130,
     "metadata": {},
     "output_type": "execute_result"
    }
   ],
   "source": [
    "set(text)"
   ]
  },
  {
   "cell_type": "code",
   "execution_count": null,
   "metadata": {},
   "outputs": [],
   "source": [
    "# +- 139, 140, 1 from any digit should count as diagonal adjacent, so should\n",
    "text = open('input.txt', 'r').read().replace('\\n', '')  \n",
    "# len(text[0].split(r'\\n'))\n",
    "# old = r'\\+(.{140})\\d+|(\\+\\d+)|\\d+(.{140})\\+'\n",
    "res =  re.findall(bad, text)\n",
    "len(res)\n",
    "res"
   ]
  },
  {
   "cell_type": "code",
   "execution_count": 132,
   "metadata": {},
   "outputs": [],
   "source": [
    "partNumbers = []\n",
    "for i in res:\n",
    "    \n",
    "    if i[0] !='':\n",
    "        partNumbers.append(i[0].split('.')[-1])\n",
    "    elif i[1] != '':\n",
    "        partNumbers.append(i[1][1:]) # of form $23423\n",
    "    elif i[2] != '':\n",
    "        partNumbers.append(i[2].split('.')[0]) # number first\n",
    "    elif i[3] != '':\n",
    "        partNumbers.append(i[3][:-1]) # of form 234$\n",
    "        "
   ]
  },
  {
   "cell_type": "code",
   "execution_count": 133,
   "metadata": {},
   "outputs": [
    {
     "data": {
      "text/plain": [
       "519087"
      ]
     },
     "execution_count": 133,
     "metadata": {},
     "output_type": "execute_result"
    }
   ],
   "source": [
    "sum(list(int(x) for x in partNumbers))"
   ]
  },
  {
   "cell_type": "code",
   "execution_count": null,
   "metadata": {},
   "outputs": [],
   "source": []
  }
 ],
 "metadata": {
  "kernelspec": {
   "display_name": "Python 3",
   "language": "python",
   "name": "python3"
  },
  "language_info": {
   "codemirror_mode": {
    "name": "ipython",
    "version": 3
   },
   "file_extension": ".py",
   "mimetype": "text/x-python",
   "name": "python",
   "nbconvert_exporter": "python",
   "pygments_lexer": "ipython3",
   "version": "2.7.0"
  }
 },
 "nbformat": 4,
 "nbformat_minor": 2
}
